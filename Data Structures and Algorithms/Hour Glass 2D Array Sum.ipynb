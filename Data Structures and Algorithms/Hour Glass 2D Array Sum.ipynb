{
 "cells": [
  {
   "cell_type": "code",
   "execution_count": 1,
   "metadata": {},
   "outputs": [
    {
     "data": {
      "text/plain": [
       "[[1, 1, 1, 0, 0, 0],\n",
       " [0, 1, 0, 0, 0, 0],\n",
       " [1, 1, 1, 0, 0, 0],\n",
       " [0, 9, 2, -4, -4, 0],\n",
       " [0, 0, 0, -2, 0, 0],\n",
       " [0, 0, -1, -2, -4, 0]]"
      ]
     },
     "execution_count": 1,
     "metadata": {},
     "output_type": "execute_result"
    }
   ],
   "source": [
    "sample = [[1,1,1,0,0,0],\n",
    "         [0,1,0,0,0,0],\n",
    "         [1,1,1,0,0,0],\n",
    "         [0,9,2,-4,-4,0],\n",
    "         [0,0,0,-2,0,0],\n",
    "         [0,0,-1,-2,-4,0]]\n",
    "sample"
   ]
  },
  {
   "cell_type": "code",
   "execution_count": 2,
   "metadata": {},
   "outputs": [
    {
     "name": "stdout",
     "output_type": "stream",
     "text": [
      "13\n"
     ]
    }
   ],
   "source": [
    "hourglass_max_sum = -100\n",
    "for column_start_index in range(0, 4, 1):\n",
    "    for start_index in range(0, 4, 1):\n",
    "        temp_arr = []\n",
    "        for row_index in range(0, 3, 1):\n",
    "            temp_arr.append(sample[start_index+row_index][column_start_index:column_start_index+3])\n",
    "        hourglass_sum = sum(temp_arr[0]) + temp_arr[1][1] + sum(temp_arr[2])\n",
    "        if hourglass_sum > hourglass_max_sum:\n",
    "            hourglass_max_sum = hourglass_sum\n",
    "print(hourglass_max_sum)"
   ]
  }
 ],
 "metadata": {
  "kernelspec": {
   "display_name": "Python 3",
   "language": "python",
   "name": "python3"
  },
  "language_info": {
   "codemirror_mode": {
    "name": "ipython",
    "version": 3
   },
   "file_extension": ".py",
   "mimetype": "text/x-python",
   "name": "python",
   "nbconvert_exporter": "python",
   "pygments_lexer": "ipython3",
   "version": "3.6.6"
  }
 },
 "nbformat": 4,
 "nbformat_minor": 2
}
