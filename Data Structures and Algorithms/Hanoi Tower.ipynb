{
 "cells": [
  {
   "cell_type": "code",
   "execution_count": 1,
   "metadata": {},
   "outputs": [
    {
     "name": "stdout",
     "output_type": "stream",
     "text": [
      "1: Move disk 1 from rod A to rod C\n",
      "2: Move disk 2 from rod A to rod B\n",
      "1: Move disk 1 from rod C to rod B\n",
      "2: Move disk 3 from rod A to rod C\n",
      "1: Move disk 1 from rod B to rod A\n",
      "2: Move disk 2 from rod B to rod C\n",
      "1: Move disk 1 from rod A to rod C\n"
     ]
    }
   ],
   "source": [
    "class HanoiTowerProblem(object):\n",
    "    def hanoi(self, n, source, destination, middle): \n",
    "        if n == 1: \n",
    "            print(\"1: Move disk 1 from rod\", source,\"to rod\", destination) \n",
    "            return\n",
    "        self.hanoi(n-1, source, middle, destination) \n",
    "        print(\"2: Move disk\", n,\"from rod\", source,\"to rod\", destination )\n",
    "        self.hanoi(n-1, middle, destination, source)\n",
    "        \n",
    "hanoi_object = HanoiTowerProblem()\n",
    "hanoi_object.hanoi(n = 3, source = 'A', destination = 'C', middle = 'B')"
   ]
  }
 ],
 "metadata": {
  "kernelspec": {
   "display_name": "Python 3",
   "language": "python",
   "name": "python3"
  },
  "language_info": {
   "codemirror_mode": {
    "name": "ipython",
    "version": 3
   },
   "file_extension": ".py",
   "mimetype": "text/x-python",
   "name": "python",
   "nbconvert_exporter": "python",
   "pygments_lexer": "ipython3",
   "version": "3.6.6"
  },
  "toc": {
   "base_numbering": 1,
   "nav_menu": {},
   "number_sections": true,
   "sideBar": true,
   "skip_h1_title": false,
   "title_cell": "Table of Contents",
   "title_sidebar": "Contents",
   "toc_cell": false,
   "toc_position": {},
   "toc_section_display": true,
   "toc_window_display": false
  },
  "varInspector": {
   "cols": {
    "lenName": 16,
    "lenType": 16,
    "lenVar": 40
   },
   "kernels_config": {
    "python": {
     "delete_cmd_postfix": "",
     "delete_cmd_prefix": "del ",
     "library": "var_list.py",
     "varRefreshCmd": "print(var_dic_list())"
    },
    "r": {
     "delete_cmd_postfix": ") ",
     "delete_cmd_prefix": "rm(",
     "library": "var_list.r",
     "varRefreshCmd": "cat(var_dic_list()) "
    }
   },
   "types_to_exclude": [
    "module",
    "function",
    "builtin_function_or_method",
    "instance",
    "_Feature"
   ],
   "window_display": false
  }
 },
 "nbformat": 4,
 "nbformat_minor": 2
}
