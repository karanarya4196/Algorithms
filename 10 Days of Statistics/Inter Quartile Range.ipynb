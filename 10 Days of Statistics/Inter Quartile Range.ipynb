{
 "cells": [
  {
   "cell_type": "code",
   "execution_count": 1,
   "metadata": {
    "ExecuteTime": {
     "end_time": "2019-09-30T11:10:43.782731Z",
     "start_time": "2019-09-30T11:10:43.772734Z"
    }
   },
   "outputs": [
    {
     "name": "stdout",
     "output_type": "stream",
     "text": [
      "6.0\n"
     ]
    }
   ],
   "source": [
    "N = '20'\n",
    "N = int(N)\n",
    "\n",
    "input_string_array = '10 40 30 50 20 10 40 30 50 20 1 2 3 4 5 6 7 8 9 10'\n",
    "input_string_frequency = '51 2 3 4 5 6 7 8 9 10 10 40 30 50 20 10 40 30 50 20'\n",
    "\n",
    "input_array = input_string_array.split()\n",
    "input_array = map(int, input_array)\n",
    "\n",
    "input_frequency = input_string_frequency.split()\n",
    "input_frequency = [int(item) for item in input_frequency]\n",
    "\n",
    "main_array = []\n",
    "for item, frequency in zip(input_array, input_frequency):\n",
    "    main_array.extend([item]*frequency)\n",
    "\n",
    "main_array.sort()\n",
    "\n",
    "length = len(main_array)\n",
    "\n",
    "def median(a, l, r): \n",
    "    n = r - l + 1\n",
    "    n = (n + 1) // 2 - 1\n",
    "    return n + l \n",
    "  \n",
    "def IQR(a, n): \n",
    "    a.sort() \n",
    "    mid_index = median(a, 0, n) \n",
    "    Q1 = a[median(a, 0, mid_index)] \n",
    "    Q3 = a[median(a, mid_index + 1, n)] \n",
    "    return float(Q3 - Q1)\n",
    "\n",
    "print(round(IQR(main_array, length), 1))"
   ]
  }
 ],
 "metadata": {
  "kernelspec": {
   "display_name": "Python 3",
   "language": "python",
   "name": "python3"
  },
  "language_info": {
   "codemirror_mode": {
    "name": "ipython",
    "version": 3
   },
   "file_extension": ".py",
   "mimetype": "text/x-python",
   "name": "python",
   "nbconvert_exporter": "python",
   "pygments_lexer": "ipython3",
   "version": "3.6.6"
  },
  "toc": {
   "base_numbering": 1,
   "nav_menu": {},
   "number_sections": true,
   "sideBar": true,
   "skip_h1_title": false,
   "title_cell": "Table of Contents",
   "title_sidebar": "Contents",
   "toc_cell": false,
   "toc_position": {},
   "toc_section_display": true,
   "toc_window_display": false
  },
  "varInspector": {
   "cols": {
    "lenName": 16,
    "lenType": 16,
    "lenVar": 40
   },
   "kernels_config": {
    "python": {
     "delete_cmd_postfix": "",
     "delete_cmd_prefix": "del ",
     "library": "var_list.py",
     "varRefreshCmd": "print(var_dic_list())"
    },
    "r": {
     "delete_cmd_postfix": ") ",
     "delete_cmd_prefix": "rm(",
     "library": "var_list.r",
     "varRefreshCmd": "cat(var_dic_list()) "
    }
   },
   "types_to_exclude": [
    "module",
    "function",
    "builtin_function_or_method",
    "instance",
    "_Feature"
   ],
   "window_display": false
  }
 },
 "nbformat": 4,
 "nbformat_minor": 2
}
