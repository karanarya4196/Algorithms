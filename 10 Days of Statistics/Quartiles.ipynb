{
 "cells": [
  {
   "cell_type": "code",
   "execution_count": 1,
   "metadata": {
    "ExecuteTime": {
     "end_time": "2019-09-30T09:15:38.975533Z",
     "start_time": "2019-09-30T09:15:38.965499Z"
    }
   },
   "outputs": [],
   "source": [
    "N = '8'\n",
    "N = int(N)\n",
    "input_string_array = '3 7 8 5 12 14 21 13'\n",
    "\n",
    "input_array = input_string_array.split()\n",
    "input_array = [int(item) for item in input_array]\n",
    "input_array.sort()\n",
    "\n",
    "if N%2 != 0:\n",
    "    Q2 = input_array[int(N/2)]\n",
    "    lower_array = input_array[0:int(N/2)]\n",
    "    upper_array = input_array[(int(N/2)+1):]\n",
    "else:\n",
    "    Q2 = (input_array[int(N/2)-1] + input_array[int(N/2)])/2\n",
    "    lower_array = input_array[0:int(N/2)]\n",
    "    upper_array = input_array[int(N/2):]\n",
    "    \n",
    "if len(lower_array)%2 != 0:\n",
    "    Q1 = lower_array[int(len(lower_array)/2)]\n",
    "else:\n",
    "    Q1 = (lower_array[int(len(lower_array)/2)-1] + lower_array[int(len(lower_array)/2)])/2\n",
    "    \n",
    "if len(upper_array)%2 != 0:\n",
    "    Q3 = upper_array[int(len(upper_array)/2)]\n",
    "else:\n",
    "    Q3 = (upper_array[int(len(upper_array)/2)-1] + upper_array[int(len(upper_array)/2)])/2\n",
    "    \n",
    "\n",
    "if not (Q1 == int(Q1)):\n",
    "    print(Q1)\n",
    "else:\n",
    "    print(int(Q1))\n",
    "if not (Q2 == int(Q2)):\n",
    "    print(Q2)\n",
    "else:\n",
    "    print(int(Q2))\n",
    "if not (Q3 == int(Q3)):\n",
    "    print(Q3)\n",
    "else:\n",
    "    print(int(Q3))"
   ]
  },
  {
   "cell_type": "code",
   "execution_count": 2,
   "metadata": {
    "ExecuteTime": {
     "end_time": "2019-09-30T09:15:38.991500Z",
     "start_time": "2019-09-30T09:15:38.978550Z"
    }
   },
   "outputs": [],
   "source": [
    "N = '9'\n",
    "N = int(N)\n",
    "input_string_array = '3 7 8 5 12 14 21 13 18'\n",
    "\n",
    "input_array = input_string_array.split()\n",
    "input_array = [int(item) for item in input_array]\n",
    "input_array.sort()\n",
    "\n",
    "if N%2 != 0:\n",
    "    Q2 = input_array[int(N/2)]\n",
    "    lower_array = input_array[0:int(N/2)]\n",
    "    upper_array = input_array[(int(N/2)+1):]\n",
    "else:\n",
    "    Q2 = (input_array[int(N/2)-1] + input_array[int(N/2)])/2\n",
    "    lower_array = input_array[0:int(N/2)]\n",
    "    upper_array = input_array[int(N/2):]\n",
    "    \n",
    "if len(lower_array)%2 != 0:\n",
    "    Q1 = lower_array[int(len(lower_array)/2)]\n",
    "else:\n",
    "    Q1 = (lower_array[int(len(lower_array)/2)-1] + lower_array[int(len(lower_array)/2)])/2\n",
    "    \n",
    "if len(upper_array)%2 != 0:\n",
    "    Q3 = upper_array[int(len(upper_array)/2)]\n",
    "else:\n",
    "    Q3 = (upper_array[int(len(upper_array)/2)-1] + upper_array[int(len(upper_array)/2)])/2\n",
    "    \n",
    "\n",
    "if not (Q1 == int(Q1)):\n",
    "    print(Q1)\n",
    "else:\n",
    "    print(int(Q1))\n",
    "if not (Q2 == int(Q2)):\n",
    "    print(Q2)\n",
    "else:\n",
    "    print(int(Q2))\n",
    "if not (Q3 == int(Q3)):\n",
    "    print(Q3)\n",
    "else:\n",
    "    print(int(Q3))"
   ]
  }
 ],
 "metadata": {
  "kernelspec": {
   "display_name": "Python 3",
   "language": "python",
   "name": "python3"
  },
  "language_info": {
   "codemirror_mode": {
    "name": "ipython",
    "version": 3
   },
   "file_extension": ".py",
   "mimetype": "text/x-python",
   "name": "python",
   "nbconvert_exporter": "python",
   "pygments_lexer": "ipython3",
   "version": "3.6.6"
  },
  "toc": {
   "base_numbering": 1,
   "nav_menu": {},
   "number_sections": true,
   "sideBar": true,
   "skip_h1_title": false,
   "title_cell": "Table of Contents",
   "title_sidebar": "Contents",
   "toc_cell": false,
   "toc_position": {},
   "toc_section_display": true,
   "toc_window_display": false
  },
  "varInspector": {
   "cols": {
    "lenName": 16,
    "lenType": 16,
    "lenVar": 40
   },
   "kernels_config": {
    "python": {
     "delete_cmd_postfix": "",
     "delete_cmd_prefix": "del ",
     "library": "var_list.py",
     "varRefreshCmd": "print(var_dic_list())"
    },
    "r": {
     "delete_cmd_postfix": ") ",
     "delete_cmd_prefix": "rm(",
     "library": "var_list.r",
     "varRefreshCmd": "cat(var_dic_list()) "
    }
   },
   "types_to_exclude": [
    "module",
    "function",
    "builtin_function_or_method",
    "instance",
    "_Feature"
   ],
   "window_display": false
  }
 },
 "nbformat": 4,
 "nbformat_minor": 2
}
