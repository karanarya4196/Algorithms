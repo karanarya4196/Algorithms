{
 "cells": [
  {
   "cell_type": "code",
   "execution_count": 1,
   "metadata": {
    "ExecuteTime": {
     "end_time": "2019-10-01T09:48:10.153411Z",
     "start_time": "2019-10-01T09:48:10.143410Z"
    }
   },
   "outputs": [
    {
     "name": "stdout",
     "output_type": "stream",
     "text": [
      "0.903\n"
     ]
    }
   ],
   "source": [
    "N = int('10')\n",
    "data_X = list(map(float, '10 9.8 8 7.8 7.7 1.7 6 5 1.4 2'.split()))\n",
    "data_Y = list(map(float, '200 44 32 24 22 17 15 12 8 4'.split()))\n",
    "\n",
    "import math\n",
    "\n",
    "def getRankList(arr):\n",
    "\n",
    "    sorted_arr = arr.copy()\n",
    "    sorted_arr.sort()\n",
    "\n",
    "    rank_dict = {}\n",
    "    for item in arr:\n",
    "        if item not in rank_dict:\n",
    "            rank_dict[item] = sorted_arr.index(item) + 1\n",
    "\n",
    "    rank_list = []\n",
    "    for item in arr:\n",
    "        rank_list.append(rank_dict[item])\n",
    "\n",
    "    return rank_list\n",
    "\n",
    "def getSquaredDifferenceRankList(arr_1, arr_2):\n",
    "    diff_rank_list_squared = []\n",
    "    for item_1, item_2 in zip(arr_1, arr_2):\n",
    "        diff_rank_list_squared.append((item_1 - item_2)**2)\n",
    "        \n",
    "    return diff_rank_list_squared\n",
    "\n",
    "def getSpearmanRankCorrelationCoefficient(diff_rank_list_squared):\n",
    "    return 1 - (6*(sum(diff_rank_list_squared))/(len(diff_rank_list_squared)*(len(diff_rank_list_squared)**2 - 1)))\n",
    "\n",
    "rank_X = getRankList(data_X)\n",
    "rank_Y = getRankList(data_Y)\n",
    "\n",
    "getSquaredDifferenceRankList(rank_X, rank_Y)\n",
    "\n",
    "print(round(getSpearmanRankCorrelationCoefficient(getSquaredDifferenceRankList(rank_X, rank_Y)), 3))"
   ]
  }
 ],
 "metadata": {
  "kernelspec": {
   "display_name": "Python 3",
   "language": "python",
   "name": "python3"
  },
  "language_info": {
   "codemirror_mode": {
    "name": "ipython",
    "version": 3
   },
   "file_extension": ".py",
   "mimetype": "text/x-python",
   "name": "python",
   "nbconvert_exporter": "python",
   "pygments_lexer": "ipython3",
   "version": "3.6.6"
  },
  "toc": {
   "base_numbering": 1,
   "nav_menu": {},
   "number_sections": true,
   "sideBar": true,
   "skip_h1_title": false,
   "title_cell": "Table of Contents",
   "title_sidebar": "Contents",
   "toc_cell": false,
   "toc_position": {},
   "toc_section_display": true,
   "toc_window_display": false
  },
  "varInspector": {
   "cols": {
    "lenName": 16,
    "lenType": 16,
    "lenVar": 40
   },
   "kernels_config": {
    "python": {
     "delete_cmd_postfix": "",
     "delete_cmd_prefix": "del ",
     "library": "var_list.py",
     "varRefreshCmd": "print(var_dic_list())"
    },
    "r": {
     "delete_cmd_postfix": ") ",
     "delete_cmd_prefix": "rm(",
     "library": "var_list.r",
     "varRefreshCmd": "cat(var_dic_list()) "
    }
   },
   "types_to_exclude": [
    "module",
    "function",
    "builtin_function_or_method",
    "instance",
    "_Feature"
   ],
   "window_display": false
  }
 },
 "nbformat": 4,
 "nbformat_minor": 2
}
