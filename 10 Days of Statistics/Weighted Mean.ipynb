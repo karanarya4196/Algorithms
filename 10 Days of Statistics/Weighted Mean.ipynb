{
 "cells": [
  {
   "cell_type": "code",
   "execution_count": 1,
   "metadata": {
    "ExecuteTime": {
     "end_time": "2019-10-01T04:03:42.912344Z",
     "start_time": "2019-10-01T04:03:42.907336Z"
    }
   },
   "outputs": [
    {
     "name": "stdout",
     "output_type": "stream",
     "text": [
      "32.0\n"
     ]
    }
   ],
   "source": [
    "N = '5'\n",
    "N = int(N)\n",
    "\n",
    "input_string_array = '10 40 30 50 20'\n",
    "input_string_frequency = '1 2 3 4 5'\n",
    "\n",
    "input_array = input_string_array.split()\n",
    "input_array = list(map(int, input_array))\n",
    "\n",
    "input_frequency = input_string_frequency.split()\n",
    "input_frequency = list(map(int, input_frequency))\n",
    "\n",
    "main_array = []\n",
    "for item, frequency in zip(input_array, input_frequency):\n",
    "    main_array.extend([item]*frequency)\n",
    "    \n",
    "def getWeightedMean(arr):\n",
    "    return sum(arr)/len(arr)\n",
    "\n",
    "print(round(getWeightedMean(main_array), 1))"
   ]
  }
 ],
 "metadata": {
  "kernelspec": {
   "display_name": "Python 3",
   "language": "python",
   "name": "python3"
  },
  "language_info": {
   "codemirror_mode": {
    "name": "ipython",
    "version": 3
   },
   "file_extension": ".py",
   "mimetype": "text/x-python",
   "name": "python",
   "nbconvert_exporter": "python",
   "pygments_lexer": "ipython3",
   "version": "3.6.6"
  },
  "toc": {
   "base_numbering": 1,
   "nav_menu": {},
   "number_sections": true,
   "sideBar": true,
   "skip_h1_title": false,
   "title_cell": "Table of Contents",
   "title_sidebar": "Contents",
   "toc_cell": false,
   "toc_position": {},
   "toc_section_display": true,
   "toc_window_display": false
  },
  "varInspector": {
   "cols": {
    "lenName": 16,
    "lenType": 16,
    "lenVar": 40
   },
   "kernels_config": {
    "python": {
     "delete_cmd_postfix": "",
     "delete_cmd_prefix": "del ",
     "library": "var_list.py",
     "varRefreshCmd": "print(var_dic_list())"
    },
    "r": {
     "delete_cmd_postfix": ") ",
     "delete_cmd_prefix": "rm(",
     "library": "var_list.r",
     "varRefreshCmd": "cat(var_dic_list()) "
    }
   },
   "types_to_exclude": [
    "module",
    "function",
    "builtin_function_or_method",
    "instance",
    "_Feature"
   ],
   "window_display": false
  }
 },
 "nbformat": 4,
 "nbformat_minor": 2
}
