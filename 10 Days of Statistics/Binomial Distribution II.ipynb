{
 "cells": [
  {
   "cell_type": "code",
   "execution_count": 1,
   "metadata": {
    "ExecuteTime": {
     "end_time": "2019-10-01T05:11:48.372690Z",
     "start_time": "2019-10-01T05:11:48.362694Z"
    }
   },
   "outputs": [
    {
     "name": "stdout",
     "output_type": "stream",
     "text": [
      "0.891\n",
      "0.342\n"
     ]
    }
   ],
   "source": [
    "input_string = '12 10'\n",
    "\n",
    "rejection_percentage = float(input_string.split()[0])\n",
    "n = float(input_string.split()[1])\n",
    "\n",
    "prob_good = 1 - (rejection_percentage/100)\n",
    "prob_reject = rejection_percentage/100\n",
    "\n",
    "import math\n",
    "\n",
    "def nCr(n,r):\n",
    "    f = math.factorial\n",
    "    return f(n) / f(r) / f(n-r)\n",
    "\n",
    "no_more_than_2_rejects = 0\n",
    "atleast_2_rejects = 0\n",
    "for r in range(0, 3, 1):\n",
    "    no_more_than_2_rejects += (nCr(n, r)) * (prob_reject**r) * (prob_good**(n-r))\n",
    "\n",
    "for r in range(2, 11, 1):\n",
    "    atleast_2_rejects += (nCr(n, r)) * (prob_reject**r) * (prob_good**(n-r))\n",
    "\n",
    "    \n",
    "print(round(no_more_than_2_rejects, 3))\n",
    "print(round(atleast_2_rejects, 3))"
   ]
  }
 ],
 "metadata": {
  "kernelspec": {
   "display_name": "Python 3",
   "language": "python",
   "name": "python3"
  },
  "language_info": {
   "codemirror_mode": {
    "name": "ipython",
    "version": 3
   },
   "file_extension": ".py",
   "mimetype": "text/x-python",
   "name": "python",
   "nbconvert_exporter": "python",
   "pygments_lexer": "ipython3",
   "version": "3.6.6"
  },
  "toc": {
   "base_numbering": 1,
   "nav_menu": {},
   "number_sections": true,
   "sideBar": true,
   "skip_h1_title": false,
   "title_cell": "Table of Contents",
   "title_sidebar": "Contents",
   "toc_cell": false,
   "toc_position": {},
   "toc_section_display": true,
   "toc_window_display": false
  },
  "varInspector": {
   "cols": {
    "lenName": 16,
    "lenType": 16,
    "lenVar": 40
   },
   "kernels_config": {
    "python": {
     "delete_cmd_postfix": "",
     "delete_cmd_prefix": "del ",
     "library": "var_list.py",
     "varRefreshCmd": "print(var_dic_list())"
    },
    "r": {
     "delete_cmd_postfix": ") ",
     "delete_cmd_prefix": "rm(",
     "library": "var_list.r",
     "varRefreshCmd": "cat(var_dic_list()) "
    }
   },
   "types_to_exclude": [
    "module",
    "function",
    "builtin_function_or_method",
    "instance",
    "_Feature"
   ],
   "window_display": false
  }
 },
 "nbformat": 4,
 "nbformat_minor": 2
}
