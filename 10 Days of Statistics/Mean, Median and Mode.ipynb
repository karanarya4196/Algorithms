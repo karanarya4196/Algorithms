{
 "cells": [
  {
   "cell_type": "code",
   "execution_count": 1,
   "metadata": {
    "ExecuteTime": {
     "end_time": "2019-10-01T03:59:48.712812Z",
     "start_time": "2019-10-01T03:59:48.696806Z"
    }
   },
   "outputs": [
    {
     "name": "stdout",
     "output_type": "stream",
     "text": [
      "43900.6\n",
      "44627.5\n",
      "4978\n"
     ]
    }
   ],
   "source": [
    "N = '10'\n",
    "N = int(N)\n",
    "\n",
    "input_string = '64630 11735 14216 99233 14470 4978 73429 38120 51135 67060'\n",
    "\n",
    "input_array = input_string.split()\n",
    "input_array = list(map(int, input_array))\n",
    "import operator\n",
    "\n",
    "def getMean(arr):\n",
    "    return sum(arr)/len(arr)\n",
    "\n",
    "def getMedian(arr):\n",
    "    arr.sort()\n",
    "    length = len(arr)\n",
    "    if length % 2 != 0:\n",
    "        median = arr[int(length/2)]\n",
    "    else:\n",
    "        median = (arr[int(length/2)] + arr[int(length/2)-1])/2\n",
    "    return median\n",
    "def getMode(arr):\n",
    "    arr.sort()\n",
    "    count_dict = {}\n",
    "    for item in arr:\n",
    "        if item in count_dict.keys():\n",
    "            count_dict[item] += 1\n",
    "        else:\n",
    "            count_dict[item] = 1\n",
    "    sorted_x = sorted(count_dict.items(), key=operator.itemgetter(1), reverse = True)\n",
    "    return int(sorted_x[0][0])\n",
    "\n",
    "print(round(getMean(input_array), 1))\n",
    "print(round(getMedian(input_array), 1))\n",
    "print(getMode(input_array))"
   ]
  }
 ],
 "metadata": {
  "kernelspec": {
   "display_name": "Python 3",
   "language": "python",
   "name": "python3"
  },
  "language_info": {
   "codemirror_mode": {
    "name": "ipython",
    "version": 3
   },
   "file_extension": ".py",
   "mimetype": "text/x-python",
   "name": "python",
   "nbconvert_exporter": "python",
   "pygments_lexer": "ipython3",
   "version": "3.6.6"
  },
  "toc": {
   "base_numbering": 1,
   "nav_menu": {},
   "number_sections": true,
   "sideBar": true,
   "skip_h1_title": false,
   "title_cell": "Table of Contents",
   "title_sidebar": "Contents",
   "toc_cell": false,
   "toc_position": {},
   "toc_section_display": true,
   "toc_window_display": false
  },
  "varInspector": {
   "cols": {
    "lenName": 16,
    "lenType": 16,
    "lenVar": 40
   },
   "kernels_config": {
    "python": {
     "delete_cmd_postfix": "",
     "delete_cmd_prefix": "del ",
     "library": "var_list.py",
     "varRefreshCmd": "print(var_dic_list())"
    },
    "r": {
     "delete_cmd_postfix": ") ",
     "delete_cmd_prefix": "rm(",
     "library": "var_list.r",
     "varRefreshCmd": "cat(var_dic_list()) "
    }
   },
   "types_to_exclude": [
    "module",
    "function",
    "builtin_function_or_method",
    "instance",
    "_Feature"
   ],
   "window_display": false
  }
 },
 "nbformat": 4,
 "nbformat_minor": 2
}
