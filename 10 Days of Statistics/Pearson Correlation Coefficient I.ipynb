{
 "cells": [
  {
   "cell_type": "code",
   "execution_count": 1,
   "metadata": {
    "ExecuteTime": {
     "end_time": "2019-10-01T13:55:05.788969Z",
     "start_time": "2019-10-01T13:55:05.775943Z"
    }
   },
   "outputs": [],
   "source": [
    "N = int('10')\n",
    "data_X = list(map(float, '10 9.8 8 7.8 7.7 7 6 5 4 2'.split()))\n",
    "data_Y = list(map(float, '200 44 32 24 22 17 15 12 8 4'.split()))\n",
    "\n",
    "import math\n",
    "\n",
    "def getMean(arr):\n",
    "    return sum(arr)/len(arr)\n",
    "\n",
    "\n",
    "def getStandardDeviation(arr):\n",
    "    length = len(arr)\n",
    "    mean = getMean(arr)\n",
    "    squared_sum = 0\n",
    "    for item in arr:\n",
    "        squared_sum += (item - mean)**2\n",
    "    return math.sqrt(squared_sum/length)\n",
    "\n",
    "\n",
    "\n",
    "def getPearsonCorrelationCoefficient(data_X, data_Y):\n",
    "    mean_X = getMean(data_X)\n",
    "    mean_Y = getMean(data_Y)\n",
    "\n",
    "    std_dev_X = getStandardDeviation(data_X)\n",
    "    std_dev_Y = getStandardDeviation(data_Y)\n",
    "    \n",
    "    sum = 0\n",
    "    for item_X, item_Y in zip(data_X, data_Y):\n",
    "        sum += (item_X - mean_X)*(item_Y - mean_Y)\n",
    "    return sum/(len(data_X)*std_dev_X*std_dev_Y)\n",
    "\n",
    "print(round(getPearsonCorrelationCoefficient(data_X, data_Y), 3))"
   ]
  }
 ],
 "metadata": {
  "kernelspec": {
   "display_name": "Python 3",
   "language": "python",
   "name": "python3"
  },
  "language_info": {
   "codemirror_mode": {
    "name": "ipython",
    "version": 3
   },
   "file_extension": ".py",
   "mimetype": "text/x-python",
   "name": "python",
   "nbconvert_exporter": "python",
   "pygments_lexer": "ipython3",
   "version": "3.6.6"
  },
  "toc": {
   "base_numbering": 1,
   "nav_menu": {},
   "number_sections": true,
   "sideBar": true,
   "skip_h1_title": false,
   "title_cell": "Table of Contents",
   "title_sidebar": "Contents",
   "toc_cell": false,
   "toc_position": {},
   "toc_section_display": true,
   "toc_window_display": false
  },
  "varInspector": {
   "cols": {
    "lenName": 16,
    "lenType": 16,
    "lenVar": 40
   },
   "kernels_config": {
    "python": {
     "delete_cmd_postfix": "",
     "delete_cmd_prefix": "del ",
     "library": "var_list.py",
     "varRefreshCmd": "print(var_dic_list())"
    },
    "r": {
     "delete_cmd_postfix": ") ",
     "delete_cmd_prefix": "rm(",
     "library": "var_list.r",
     "varRefreshCmd": "cat(var_dic_list()) "
    }
   },
   "types_to_exclude": [
    "module",
    "function",
    "builtin_function_or_method",
    "instance",
    "_Feature"
   ],
   "window_display": false
  }
 },
 "nbformat": 4,
 "nbformat_minor": 2
}
