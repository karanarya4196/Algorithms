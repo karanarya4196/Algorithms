{
 "cells": [
  {
   "cell_type": "code",
   "execution_count": 1,
   "metadata": {
    "ExecuteTime": {
     "end_time": "2019-10-01T14:04:59.584191Z",
     "start_time": "2019-10-01T14:04:59.572189Z"
    }
   },
   "outputs": [
    {
     "name": "stdout",
     "output_type": "stream",
     "text": [
      "78.288\n"
     ]
    }
   ],
   "source": [
    "# input_list = []\n",
    "# for i in range(5):\n",
    "#     input_list.append(tuple(map(int, input().split())))\n",
    "\n",
    "data_X = [95, 85, 80, 70, 60]\n",
    "data_Y = [85, 95, 70, 65, 70]\n",
    "\n",
    "# for tuple_ in input_list:\n",
    "#     data_X.append(tuple_[0])\n",
    "#     data_Y.append(tuple_[1])\n",
    "\n",
    "import math\n",
    "\n",
    "def getMean(arr):\n",
    "    return sum(arr)/len(arr)\n",
    "\n",
    "def getStandardDeviation(arr):\n",
    "    length = len(arr)\n",
    "    mean = getMean(arr)\n",
    "    squared_sum = 0\n",
    "    for item in arr:\n",
    "        squared_sum += (item - mean)**2\n",
    "    return math.sqrt(squared_sum/length)\n",
    "\n",
    "def getPearsonCorrelationCoefficient(data_X, data_Y):\n",
    "    mean_X = getMean(data_X)\n",
    "    mean_Y = getMean(data_Y)\n",
    "\n",
    "    std_dev_X = getStandardDeviation(data_X)\n",
    "    std_dev_Y = getStandardDeviation(data_Y)\n",
    "    \n",
    "    sum = 0\n",
    "    for item_X, item_Y in zip(data_X, data_Y):\n",
    "        sum += (item_X - mean_X)*(item_Y - mean_Y)\n",
    "    return sum/(len(data_X)*std_dev_X*std_dev_Y)\n",
    "\n",
    "pearson = getPearsonCorrelationCoefficient(data_X, data_Y)\n",
    "sigma_X = getStandardDeviation(data_X)\n",
    "sigma_Y = getStandardDeviation(data_Y)\n",
    "mean_X = getMean(data_X)\n",
    "mean_Y = getMean(data_Y)\n",
    "\n",
    "b = (pearson)*(sigma_Y/sigma_X)\n",
    "a = mean_Y - b*mean_X\n",
    "\n",
    "y = a + b*80\n",
    "print(round(y, 3))"
   ]
  }
 ],
 "metadata": {
  "kernelspec": {
   "display_name": "Python 3",
   "language": "python",
   "name": "python3"
  },
  "language_info": {
   "codemirror_mode": {
    "name": "ipython",
    "version": 3
   },
   "file_extension": ".py",
   "mimetype": "text/x-python",
   "name": "python",
   "nbconvert_exporter": "python",
   "pygments_lexer": "ipython3",
   "version": "3.6.6"
  },
  "toc": {
   "base_numbering": 1,
   "nav_menu": {},
   "number_sections": true,
   "sideBar": true,
   "skip_h1_title": false,
   "title_cell": "Table of Contents",
   "title_sidebar": "Contents",
   "toc_cell": false,
   "toc_position": {},
   "toc_section_display": true,
   "toc_window_display": false
  },
  "varInspector": {
   "cols": {
    "lenName": 16,
    "lenType": 16,
    "lenVar": 40
   },
   "kernels_config": {
    "python": {
     "delete_cmd_postfix": "",
     "delete_cmd_prefix": "del ",
     "library": "var_list.py",
     "varRefreshCmd": "print(var_dic_list())"
    },
    "r": {
     "delete_cmd_postfix": ") ",
     "delete_cmd_prefix": "rm(",
     "library": "var_list.r",
     "varRefreshCmd": "cat(var_dic_list()) "
    }
   },
   "types_to_exclude": [
    "module",
    "function",
    "builtin_function_or_method",
    "instance",
    "_Feature"
   ],
   "window_display": false
  }
 },
 "nbformat": 4,
 "nbformat_minor": 2
}
