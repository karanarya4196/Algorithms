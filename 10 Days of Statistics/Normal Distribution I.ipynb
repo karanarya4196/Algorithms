{
 "cells": [
  {
   "cell_type": "code",
   "execution_count": 1,
   "metadata": {
    "ExecuteTime": {
     "end_time": "2019-10-01T08:20:45.342695Z",
     "start_time": "2019-10-01T08:20:45.337679Z"
    }
   },
   "outputs": [
    {
     "name": "stdout",
     "output_type": "stream",
     "text": [
      "0.401\n",
      "0.341\n"
     ]
    }
   ],
   "source": [
    "input_list = list(map(float, '20 2'.split()))\n",
    "mean = input_list[0]\n",
    "std_dev = input_list[1]\n",
    "\n",
    "limit_range_1 = float('19.5')\n",
    "limit_range_2 = list(map(float, '20 22'.split()))\n",
    "\n",
    "start_limit_range_2 = limit_range_2[0]\n",
    "end_limit_range_2 = limit_range_2[1]\n",
    "\n",
    "import math\n",
    "def N(mean, std_dev, x):\n",
    "    return 0.5 + 0.5 * math.erf((x-mean)/(std_dev* 2**0.5))\n",
    "\n",
    "print(round(N(mean, std_dev, limit_range_1) - N(mean, std_dev, 0), 3))\n",
    "print(round(N(mean, std_dev, end_limit_range_2) - N(mean, std_dev, start_limit_range_2), 3))"
   ]
  },
  {
   "cell_type": "code",
   "execution_count": 2,
   "metadata": {
    "ExecuteTime": {
     "end_time": "2019-10-01T08:20:48.356120Z",
     "start_time": "2019-10-01T08:20:48.103057Z"
    }
   },
   "outputs": [
    {
     "name": "stdout",
     "output_type": "stream",
     "text": [
      "0.401\n",
      "0.341\n"
     ]
    }
   ],
   "source": [
    "import math\n",
    "from scipy.integrate import quad\n",
    "\n",
    "def integrand(x, mean, std_dev):\n",
    "    normal_distribution_equation = (1/(std_dev * (math.sqrt(2*math.pi)))) * (math.exp(-1 * (((x-mean)**2)/(2*std_dev**2))))\n",
    "    \n",
    "    return normal_distribution_equation\n",
    "\n",
    "answer_1 = quad(integrand, 0, limit_range_1, args = (mean, std_dev))\n",
    "print(round(answer_1[0] - answer_1[1], 3))\n",
    "\n",
    "answer_2 = quad(integrand, start_limit_range_2, end_limit_range_2, args = (mean, std_dev))\n",
    "print(round(answer_2[0] - answer_2[1], 3))"
   ]
  }
 ],
 "metadata": {
  "kernelspec": {
   "display_name": "Python 3",
   "language": "python",
   "name": "python3"
  },
  "language_info": {
   "codemirror_mode": {
    "name": "ipython",
    "version": 3
   },
   "file_extension": ".py",
   "mimetype": "text/x-python",
   "name": "python",
   "nbconvert_exporter": "python",
   "pygments_lexer": "ipython3",
   "version": "3.6.6"
  },
  "toc": {
   "base_numbering": 1,
   "nav_menu": {},
   "number_sections": true,
   "sideBar": true,
   "skip_h1_title": false,
   "title_cell": "Table of Contents",
   "title_sidebar": "Contents",
   "toc_cell": false,
   "toc_position": {},
   "toc_section_display": true,
   "toc_window_display": false
  },
  "varInspector": {
   "cols": {
    "lenName": 16,
    "lenType": 16,
    "lenVar": 40
   },
   "kernels_config": {
    "python": {
     "delete_cmd_postfix": "",
     "delete_cmd_prefix": "del ",
     "library": "var_list.py",
     "varRefreshCmd": "print(var_dic_list())"
    },
    "r": {
     "delete_cmd_postfix": ") ",
     "delete_cmd_prefix": "rm(",
     "library": "var_list.r",
     "varRefreshCmd": "cat(var_dic_list()) "
    }
   },
   "types_to_exclude": [
    "module",
    "function",
    "builtin_function_or_method",
    "instance",
    "_Feature"
   ],
   "window_display": false
  }
 },
 "nbformat": 4,
 "nbformat_minor": 2
}
